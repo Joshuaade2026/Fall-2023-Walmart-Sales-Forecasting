{
    "metadata": {
        "kernelspec": {
            "name": "python3",
            "display_name": "Python 3 (ipykernel)",
            "language": "python"
        }
    },
    "nbformat": 4,
    "nbformat_minor": 5,
    "cells": [
        {
            "attachments": {},
            "cell_type": "markdown",
            "metadata": {},
            "source": [
                "# Accessing and Cleaning the Data\n",
                "\n",
                "---\n",
                "\n",
                ""
            ]
        },
        {
            "attachments": {},
            "cell_type": "markdown",
            "metadata": {},
            "source": [
                "First import the libraries"
            ]
        },
        {
            "cell_type": "code",
            "execution_count": 1,
            "metadata": {},
            "outputs": [
                {
                    "name": "stderr",
                    "output_type": "stream",
                    "text": "2023-12-08 06:22:06.646839: I tensorflow/core/platform/cpu_feature_guard.cc:182] This TensorFlow binary is optimized to use available CPU instructions in performance-critical operations.\nTo enable the following instructions: SSE3 SSE4.1 SSE4.2 AVX AVX2 FMA, in other operations, rebuild TensorFlow with the appropriate compiler flags.\n"
                }
            ],
            "source": [
                "import pandas as pd\n",
                "import numpy as np\n",
                "import tensorflow as tf"
            ]
        },
        {
            "cell_type": "code",
            "execution_count": 2,
            "metadata": {},
            "outputs": [],
            "source": [
                "train = pd.read_csv('train2.csv')\n",
                "test = pd.read_csv('test2.csv')\n",
                ""
            ]
        },
        {
            "attachments": {},
            "cell_type": "markdown",
            "metadata": {},
            "source": [
                "View how many unique values each \n",
                "dataframes have. "
            ]
        },
        {
            "cell_type": "code",
            "execution_count": 3,
            "metadata": {},
            "outputs": [],
            "source": [
                ""
            ]
        },
        {
            "cell_type": "code",
            "execution_count": 4,
            "metadata": {},
            "outputs": [
                {
                    "data": {
                        "text/plain": "1499"
                    },
                    "execution_count": 4,
                    "metadata": {},
                    "output_type": "execute_result"
                }
            ],
            "source": [
                "len(train)"
            ]
        },
        {
            "cell_type": "code",
            "execution_count": 5,
            "metadata": {},
            "outputs": [
                {
                    "data": {
                        "text/html": "\u003cdiv\u003e\n\u003cstyle scoped\u003e\n    .dataframe tbody tr th:only-of-type {\n        vertical-align: middle;\n    }\n\n    .dataframe tbody tr th {\n        vertical-align: top;\n    }\n\n    .dataframe thead th {\n        text-align: right;\n    }\n\u003c/style\u003e\n\u003ctable border=\"1\" class=\"dataframe\"\u003e\n  \u003cthead\u003e\n    \u003ctr style=\"text-align: right;\"\u003e\n      \u003cth\u003e\u003c/th\u003e\n      \u003cth\u003eStore\u003c/th\u003e\n      \u003cth\u003eDept\u003c/th\u003e\n      \u003cth\u003eDate\u003c/th\u003e\n      \u003cth\u003eWeekly_Sales\u003c/th\u003e\n      \u003cth\u003eIsHoliday\u003c/th\u003e\n      \u003cth\u003eTemperature\u003c/th\u003e\n      \u003cth\u003eFuel_Price\u003c/th\u003e\n      \u003cth\u003eMarkDown1\u003c/th\u003e\n      \u003cth\u003eMarkDown2\u003c/th\u003e\n      \u003cth\u003eMarkDown3\u003c/th\u003e\n      \u003cth\u003eMarkDown4\u003c/th\u003e\n      \u003cth\u003eMarkDown5\u003c/th\u003e\n      \u003cth\u003eCPI\u003c/th\u003e\n      \u003cth\u003eUnemployment\u003c/th\u003e\n      \u003cth\u003eType\u003c/th\u003e\n      \u003cth\u003eSize\u003c/th\u003e\n    \u003c/tr\u003e\n  \u003c/thead\u003e\n  \u003ctbody\u003e\n    \u003ctr\u003e\n      \u003cth\u003e0\u003c/th\u003e\n      \u003ctd\u003e26\u003c/td\u003e\n      \u003ctd\u003e92\u003c/td\u003e\n      \u003ctd\u003e8/26/11\u003c/td\u003e\n      \u003ctd\u003e87235.57\u003c/td\u003e\n      \u003ctd\u003eFalse\u003c/td\u003e\n      \u003ctd\u003e61.10\u003c/td\u003e\n      \u003ctd\u003e3.796\u003c/td\u003e\n      \u003ctd\u003eNaN\u003c/td\u003e\n      \u003ctd\u003eNaN\u003c/td\u003e\n      \u003ctd\u003eNaN\u003c/td\u003e\n      \u003ctd\u003eNaN\u003c/td\u003e\n      \u003ctd\u003eNaN\u003c/td\u003e\n      \u003ctd\u003e136.213613\u003c/td\u003e\n      \u003ctd\u003e7.767\u003c/td\u003e\n      \u003ctd\u003eA\u003c/td\u003e\n      \u003ctd\u003e152513\u003c/td\u003e\n    \u003c/tr\u003e\n    \u003ctr\u003e\n      \u003cth\u003e1\u003c/th\u003e\n      \u003ctd\u003e34\u003c/td\u003e\n      \u003ctd\u003e22\u003c/td\u003e\n      \u003ctd\u003e3/25/11\u003c/td\u003e\n      \u003ctd\u003e5945.97\u003c/td\u003e\n      \u003ctd\u003eFalse\u003c/td\u003e\n      \u003ctd\u003e53.11\u003c/td\u003e\n      \u003ctd\u003e3.480\u003c/td\u003e\n      \u003ctd\u003eNaN\u003c/td\u003e\n      \u003ctd\u003eNaN\u003c/td\u003e\n      \u003ctd\u003eNaN\u003c/td\u003e\n      \u003ctd\u003eNaN\u003c/td\u003e\n      \u003ctd\u003eNaN\u003c/td\u003e\n      \u003ctd\u003e128.616064\u003c/td\u003e\n      \u003ctd\u003e10.398\u003c/td\u003e\n      \u003ctd\u003eA\u003c/td\u003e\n      \u003ctd\u003e158114\u003c/td\u003e\n    \u003c/tr\u003e\n    \u003ctr\u003e\n      \u003cth\u003e2\u003c/th\u003e\n      \u003ctd\u003e21\u003c/td\u003e\n      \u003ctd\u003e28\u003c/td\u003e\n      \u003ctd\u003e12/3/10\u003c/td\u003e\n      \u003ctd\u003e1219.89\u003c/td\u003e\n      \u003ctd\u003eFalse\u003c/td\u003e\n      \u003ctd\u003e50.43\u003c/td\u003e\n      \u003ctd\u003e2.708\u003c/td\u003e\n      \u003ctd\u003eNaN\u003c/td\u003e\n      \u003ctd\u003eNaN\u003c/td\u003e\n      \u003ctd\u003eNaN\u003c/td\u003e\n      \u003ctd\u003eNaN\u003c/td\u003e\n      \u003ctd\u003eNaN\u003c/td\u003e\n      \u003ctd\u003e211.265543\u003c/td\u003e\n      \u003ctd\u003e8.163\u003c/td\u003e\n      \u003ctd\u003eB\u003c/td\u003e\n      \u003ctd\u003e140167\u003c/td\u003e\n    \u003c/tr\u003e\n    \u003ctr\u003e\n      \u003cth\u003e3\u003c/th\u003e\n      \u003ctd\u003e8\u003c/td\u003e\n      \u003ctd\u003e9\u003c/td\u003e\n      \u003ctd\u003e9/17/10\u003c/td\u003e\n      \u003ctd\u003e11972.71\u003c/td\u003e\n      \u003ctd\u003eFalse\u003c/td\u003e\n      \u003ctd\u003e75.32\u003c/td\u003e\n      \u003ctd\u003e2.582\u003c/td\u003e\n      \u003ctd\u003eNaN\u003c/td\u003e\n      \u003ctd\u003eNaN\u003c/td\u003e\n      \u003ctd\u003eNaN\u003c/td\u003e\n      \u003ctd\u003eNaN\u003c/td\u003e\n      \u003ctd\u003eNaN\u003c/td\u003e\n      \u003ctd\u003e214.878556\u003c/td\u003e\n      \u003ctd\u003e6.315\u003c/td\u003e\n      \u003ctd\u003eA\u003c/td\u003e\n      \u003ctd\u003e155078\u003c/td\u003e\n    \u003c/tr\u003e\n    \u003ctr\u003e\n      \u003cth\u003e4\u003c/th\u003e\n      \u003ctd\u003e19\u003c/td\u003e\n      \u003ctd\u003e55\u003c/td\u003e\n      \u003ctd\u003e5/18/12\u003c/td\u003e\n      \u003ctd\u003e8271.82\u003c/td\u003e\n      \u003ctd\u003eFalse\u003c/td\u003e\n      \u003ctd\u003e58.81\u003c/td\u003e\n      \u003ctd\u003e4.029\u003c/td\u003e\n      \u003ctd\u003e12613.98\u003c/td\u003e\n      \u003ctd\u003eNaN\u003c/td\u003e\n      \u003ctd\u003e11.5\u003c/td\u003e\n      \u003ctd\u003e1705.28\u003c/td\u003e\n      \u003ctd\u003e3600.79\u003c/td\u003e\n      \u003ctd\u003e138.106581\u003c/td\u003e\n      \u003ctd\u003e8.150\u003c/td\u003e\n      \u003ctd\u003eA\u003c/td\u003e\n      \u003ctd\u003e203819\u003c/td\u003e\n    \u003c/tr\u003e\n  \u003c/tbody\u003e\n\u003c/table\u003e\n\u003c/div\u003e",
                        "text/plain": "   Store  Dept     Date  Weekly_Sales  IsHoliday  Temperature  Fuel_Price  \\\n0     26    92  8/26/11      87235.57      False        61.10       3.796   \n1     34    22  3/25/11       5945.97      False        53.11       3.480   \n2     21    28  12/3/10       1219.89      False        50.43       2.708   \n3      8     9  9/17/10      11972.71      False        75.32       2.582   \n4     19    55  5/18/12       8271.82      False        58.81       4.029   \n\n   MarkDown1  MarkDown2  MarkDown3  MarkDown4  MarkDown5         CPI  \\\n0        NaN        NaN        NaN        NaN        NaN  136.213613   \n1        NaN        NaN        NaN        NaN        NaN  128.616064   \n2        NaN        NaN        NaN        NaN        NaN  211.265543   \n3        NaN        NaN        NaN        NaN        NaN  214.878556   \n4   12613.98        NaN       11.5    1705.28    3600.79  138.106581   \n\n   Unemployment Type    Size  \n0         7.767    A  152513  \n1        10.398    A  158114  \n2         8.163    B  140167  \n3         6.315    A  155078  \n4         8.150    A  203819  "
                    },
                    "execution_count": 5,
                    "metadata": {},
                    "output_type": "execute_result"
                }
            ],
            "source": [
                "train.head()"
            ]
        },
        {
            "cell_type": "code",
            "execution_count": 6,
            "metadata": {},
            "outputs": [
                {
                    "data": {
                        "text/plain": "749"
                    },
                    "execution_count": 6,
                    "metadata": {},
                    "output_type": "execute_result"
                }
            ],
            "source": [
                "len(test)"
            ]
        },
        {
            "cell_type": "code",
            "execution_count": 7,
            "metadata": {},
            "outputs": [
                {
                    "data": {
                        "text/html": "\u003cdiv\u003e\n\u003cstyle scoped\u003e\n    .dataframe tbody tr th:only-of-type {\n        vertical-align: middle;\n    }\n\n    .dataframe tbody tr th {\n        vertical-align: top;\n    }\n\n    .dataframe thead th {\n        text-align: right;\n    }\n\u003c/style\u003e\n\u003ctable border=\"1\" class=\"dataframe\"\u003e\n  \u003cthead\u003e\n    \u003ctr style=\"text-align: right;\"\u003e\n      \u003cth\u003e\u003c/th\u003e\n      \u003cth\u003eStore\u003c/th\u003e\n      \u003cth\u003eDept\u003c/th\u003e\n      \u003cth\u003eDate\u003c/th\u003e\n      \u003cth\u003eIsHoliday\u003c/th\u003e\n      \u003cth\u003eTemperature\u003c/th\u003e\n      \u003cth\u003eFuel_Price\u003c/th\u003e\n      \u003cth\u003eMarkDown1\u003c/th\u003e\n      \u003cth\u003eMarkDown2\u003c/th\u003e\n      \u003cth\u003eMarkDown3\u003c/th\u003e\n      \u003cth\u003eMarkDown4\u003c/th\u003e\n      \u003cth\u003eMarkDown5\u003c/th\u003e\n      \u003cth\u003eCPI\u003c/th\u003e\n      \u003cth\u003eUnemployment\u003c/th\u003e\n      \u003cth\u003eType\u003c/th\u003e\n      \u003cth\u003eSize\u003c/th\u003e\n    \u003c/tr\u003e\n  \u003c/thead\u003e\n  \u003ctbody\u003e\n    \u003ctr\u003e\n      \u003cth\u003e0\u003c/th\u003e\n      \u003ctd\u003e28\u003c/td\u003e\n      \u003ctd\u003e40\u003c/td\u003e\n      \u003ctd\u003e1/6/12\u003c/td\u003e\n      \u003ctd\u003eFalse\u003c/td\u003e\n      \u003ctd\u003e50.43\u003c/td\u003e\n      \u003ctd\u003e3.599\u003c/td\u003e\n      \u003ctd\u003e5155.86\u003c/td\u003e\n      \u003ctd\u003e19549.51\u003c/td\u003e\n      \u003ctd\u003e218.29\u003c/td\u003e\n      \u003ctd\u003e636.73\u003c/td\u003e\n      \u003ctd\u003e5218.50\u003c/td\u003e\n      \u003ctd\u003e130.157516\u003c/td\u003e\n      \u003ctd\u003e12.187\u003c/td\u003e\n      \u003ctd\u003eA\u003c/td\u003e\n      \u003ctd\u003e206302\u003c/td\u003e\n    \u003c/tr\u003e\n    \u003ctr\u003e\n      \u003cth\u003e1\u003c/th\u003e\n      \u003ctd\u003e18\u003c/td\u003e\n      \u003ctd\u003e93\u003c/td\u003e\n      \u003ctd\u003e3/9/12\u003c/td\u003e\n      \u003ctd\u003eFalse\u003c/td\u003e\n      \u003ctd\u003e38.10\u003c/td\u003e\n      \u003ctd\u003e3.876\u003c/td\u003e\n      \u003ctd\u003e7410.18\u003c/td\u003e\n      \u003ctd\u003e368.19\u003c/td\u003e\n      \u003ctd\u003e25.46\u003c/td\u003e\n      \u003ctd\u003e1852.39\u003c/td\u003e\n      \u003ctd\u003e2332.07\u003c/td\u003e\n      \u003ctd\u003e137.506690\u003c/td\u003e\n      \u003ctd\u003e8.075\u003c/td\u003e\n      \u003ctd\u003eB\u003c/td\u003e\n      \u003ctd\u003e120653\u003c/td\u003e\n    \u003c/tr\u003e\n    \u003ctr\u003e\n      \u003cth\u003e2\u003c/th\u003e\n      \u003ctd\u003e38\u003c/td\u003e\n      \u003ctd\u003e4\u003c/td\u003e\n      \u003ctd\u003e5/27/11\u003c/td\u003e\n      \u003ctd\u003eFalse\u003c/td\u003e\n      \u003ctd\u003e76.67\u003c/td\u003e\n      \u003ctd\u003e4.087\u003c/td\u003e\n      \u003ctd\u003eNaN\u003c/td\u003e\n      \u003ctd\u003eNaN\u003c/td\u003e\n      \u003ctd\u003eNaN\u003c/td\u003e\n      \u003ctd\u003eNaN\u003c/td\u003e\n      \u003ctd\u003eNaN\u003c/td\u003e\n      \u003ctd\u003e129.062355\u003c/td\u003e\n      \u003ctd\u003e13.736\u003c/td\u003e\n      \u003ctd\u003eC\u003c/td\u003e\n      \u003ctd\u003e39690\u003c/td\u003e\n    \u003c/tr\u003e\n    \u003ctr\u003e\n      \u003cth\u003e3\u003c/th\u003e\n      \u003ctd\u003e29\u003c/td\u003e\n      \u003ctd\u003e33\u003c/td\u003e\n      \u003ctd\u003e3/12/10\u003c/td\u003e\n      \u003ctd\u003eFalse\u003c/td\u003e\n      \u003ctd\u003e43.43\u003c/td\u003e\n      \u003ctd\u003e2.805\u003c/td\u003e\n      \u003ctd\u003eNaN\u003c/td\u003e\n      \u003ctd\u003eNaN\u003c/td\u003e\n      \u003ctd\u003eNaN\u003c/td\u003e\n      \u003ctd\u003eNaN\u003c/td\u003e\n      \u003ctd\u003eNaN\u003c/td\u003e\n      \u003ctd\u003e131.784000\u003c/td\u003e\n      \u003ctd\u003e10.064\u003c/td\u003e\n      \u003ctd\u003eB\u003c/td\u003e\n      \u003ctd\u003e93638\u003c/td\u003e\n    \u003c/tr\u003e\n    \u003ctr\u003e\n      \u003cth\u003e4\u003c/th\u003e\n      \u003ctd\u003e13\u003c/td\u003e\n      \u003ctd\u003e52\u003c/td\u003e\n      \u003ctd\u003e10/29/10\u003c/td\u003e\n      \u003ctd\u003eFalse\u003c/td\u003e\n      \u003ctd\u003e45.12\u003c/td\u003e\n      \u003ctd\u003e2.841\u003c/td\u003e\n      \u003ctd\u003eNaN\u003c/td\u003e\n      \u003ctd\u003eNaN\u003c/td\u003e\n      \u003ctd\u003eNaN\u003c/td\u003e\n      \u003ctd\u003eNaN\u003c/td\u003e\n      \u003ctd\u003eNaN\u003c/td\u003e\n      \u003ctd\u003e126.436419\u003c/td\u003e\n      \u003ctd\u003e7.795\u003c/td\u003e\n      \u003ctd\u003eA\u003c/td\u003e\n      \u003ctd\u003e219622\u003c/td\u003e\n    \u003c/tr\u003e\n  \u003c/tbody\u003e\n\u003c/table\u003e\n\u003c/div\u003e",
                        "text/plain": "   Store  Dept      Date  IsHoliday  Temperature  Fuel_Price  MarkDown1  \\\n0     28    40    1/6/12      False        50.43       3.599    5155.86   \n1     18    93    3/9/12      False        38.10       3.876    7410.18   \n2     38     4   5/27/11      False        76.67       4.087        NaN   \n3     29    33   3/12/10      False        43.43       2.805        NaN   \n4     13    52  10/29/10      False        45.12       2.841        NaN   \n\n   MarkDown2  MarkDown3  MarkDown4  MarkDown5         CPI  Unemployment Type  \\\n0   19549.51     218.29     636.73    5218.50  130.157516        12.187    A   \n1     368.19      25.46    1852.39    2332.07  137.506690         8.075    B   \n2        NaN        NaN        NaN        NaN  129.062355        13.736    C   \n3        NaN        NaN        NaN        NaN  131.784000        10.064    B   \n4        NaN        NaN        NaN        NaN  126.436419         7.795    A   \n\n     Size  \n0  206302  \n1  120653  \n2   39690  \n3   93638  \n4  219622  "
                    },
                    "execution_count": 7,
                    "metadata": {},
                    "output_type": "execute_result"
                }
            ],
            "source": [
                "test.head()"
            ]
        },
        {
            "attachments": {},
            "cell_type": "markdown",
            "metadata": {},
            "source": [
                "Join 'train' and 'test' to reduce the number of steps to prepare the data"
            ]
        },
        {
            "cell_type": "code",
            "execution_count": 8,
            "metadata": {},
            "outputs": [],
            "source": [
                "df = pd.concat([train,test],axis=0)"
            ]
        },
        {
            "attachments": {},
            "cell_type": "markdown",
            "metadata": {},
            "source": [
                "#### Get an overview of the data"
            ]
        },
        {
            "cell_type": "code",
            "execution_count": 9,
            "metadata": {},
            "outputs": [
                {
                    "data": {
                        "text/html": "\u003cdiv\u003e\n\u003cstyle scoped\u003e\n    .dataframe tbody tr th:only-of-type {\n        vertical-align: middle;\n    }\n\n    .dataframe tbody tr th {\n        vertical-align: top;\n    }\n\n    .dataframe thead th {\n        text-align: right;\n    }\n\u003c/style\u003e\n\u003ctable border=\"1\" class=\"dataframe\"\u003e\n  \u003cthead\u003e\n    \u003ctr style=\"text-align: right;\"\u003e\n      \u003cth\u003e\u003c/th\u003e\n      \u003cth\u003eStore\u003c/th\u003e\n      \u003cth\u003eDept\u003c/th\u003e\n      \u003cth\u003eDate\u003c/th\u003e\n      \u003cth\u003eWeekly_Sales\u003c/th\u003e\n      \u003cth\u003eIsHoliday\u003c/th\u003e\n      \u003cth\u003eTemperature\u003c/th\u003e\n      \u003cth\u003eFuel_Price\u003c/th\u003e\n      \u003cth\u003eMarkDown1\u003c/th\u003e\n      \u003cth\u003eMarkDown2\u003c/th\u003e\n      \u003cth\u003eMarkDown3\u003c/th\u003e\n      \u003cth\u003eMarkDown4\u003c/th\u003e\n      \u003cth\u003eMarkDown5\u003c/th\u003e\n      \u003cth\u003eCPI\u003c/th\u003e\n      \u003cth\u003eUnemployment\u003c/th\u003e\n      \u003cth\u003eType\u003c/th\u003e\n      \u003cth\u003eSize\u003c/th\u003e\n    \u003c/tr\u003e\n  \u003c/thead\u003e\n  \u003ctbody\u003e\n    \u003ctr\u003e\n      \u003cth\u003e0\u003c/th\u003e\n      \u003ctd\u003e26\u003c/td\u003e\n      \u003ctd\u003e92\u003c/td\u003e\n      \u003ctd\u003e8/26/11\u003c/td\u003e\n      \u003ctd\u003e87235.57\u003c/td\u003e\n      \u003ctd\u003eFalse\u003c/td\u003e\n      \u003ctd\u003e61.10\u003c/td\u003e\n      \u003ctd\u003e3.796\u003c/td\u003e\n      \u003ctd\u003eNaN\u003c/td\u003e\n      \u003ctd\u003eNaN\u003c/td\u003e\n      \u003ctd\u003eNaN\u003c/td\u003e\n      \u003ctd\u003eNaN\u003c/td\u003e\n      \u003ctd\u003eNaN\u003c/td\u003e\n      \u003ctd\u003e136.213613\u003c/td\u003e\n      \u003ctd\u003e7.767\u003c/td\u003e\n      \u003ctd\u003eA\u003c/td\u003e\n      \u003ctd\u003e152513\u003c/td\u003e\n    \u003c/tr\u003e\n    \u003ctr\u003e\n      \u003cth\u003e1\u003c/th\u003e\n      \u003ctd\u003e34\u003c/td\u003e\n      \u003ctd\u003e22\u003c/td\u003e\n      \u003ctd\u003e3/25/11\u003c/td\u003e\n      \u003ctd\u003e5945.97\u003c/td\u003e\n      \u003ctd\u003eFalse\u003c/td\u003e\n      \u003ctd\u003e53.11\u003c/td\u003e\n      \u003ctd\u003e3.480\u003c/td\u003e\n      \u003ctd\u003eNaN\u003c/td\u003e\n      \u003ctd\u003eNaN\u003c/td\u003e\n      \u003ctd\u003eNaN\u003c/td\u003e\n      \u003ctd\u003eNaN\u003c/td\u003e\n      \u003ctd\u003eNaN\u003c/td\u003e\n      \u003ctd\u003e128.616064\u003c/td\u003e\n      \u003ctd\u003e10.398\u003c/td\u003e\n      \u003ctd\u003eA\u003c/td\u003e\n      \u003ctd\u003e158114\u003c/td\u003e\n    \u003c/tr\u003e\n    \u003ctr\u003e\n      \u003cth\u003e2\u003c/th\u003e\n      \u003ctd\u003e21\u003c/td\u003e\n      \u003ctd\u003e28\u003c/td\u003e\n      \u003ctd\u003e12/3/10\u003c/td\u003e\n      \u003ctd\u003e1219.89\u003c/td\u003e\n      \u003ctd\u003eFalse\u003c/td\u003e\n      \u003ctd\u003e50.43\u003c/td\u003e\n      \u003ctd\u003e2.708\u003c/td\u003e\n      \u003ctd\u003eNaN\u003c/td\u003e\n      \u003ctd\u003eNaN\u003c/td\u003e\n      \u003ctd\u003eNaN\u003c/td\u003e\n      \u003ctd\u003eNaN\u003c/td\u003e\n      \u003ctd\u003eNaN\u003c/td\u003e\n      \u003ctd\u003e211.265543\u003c/td\u003e\n      \u003ctd\u003e8.163\u003c/td\u003e\n      \u003ctd\u003eB\u003c/td\u003e\n      \u003ctd\u003e140167\u003c/td\u003e\n    \u003c/tr\u003e\n    \u003ctr\u003e\n      \u003cth\u003e3\u003c/th\u003e\n      \u003ctd\u003e8\u003c/td\u003e\n      \u003ctd\u003e9\u003c/td\u003e\n      \u003ctd\u003e9/17/10\u003c/td\u003e\n      \u003ctd\u003e11972.71\u003c/td\u003e\n      \u003ctd\u003eFalse\u003c/td\u003e\n      \u003ctd\u003e75.32\u003c/td\u003e\n      \u003ctd\u003e2.582\u003c/td\u003e\n      \u003ctd\u003eNaN\u003c/td\u003e\n      \u003ctd\u003eNaN\u003c/td\u003e\n      \u003ctd\u003eNaN\u003c/td\u003e\n      \u003ctd\u003eNaN\u003c/td\u003e\n      \u003ctd\u003eNaN\u003c/td\u003e\n      \u003ctd\u003e214.878556\u003c/td\u003e\n      \u003ctd\u003e6.315\u003c/td\u003e\n      \u003ctd\u003eA\u003c/td\u003e\n      \u003ctd\u003e155078\u003c/td\u003e\n    \u003c/tr\u003e\n    \u003ctr\u003e\n      \u003cth\u003e4\u003c/th\u003e\n      \u003ctd\u003e19\u003c/td\u003e\n      \u003ctd\u003e55\u003c/td\u003e\n      \u003ctd\u003e5/18/12\u003c/td\u003e\n      \u003ctd\u003e8271.82\u003c/td\u003e\n      \u003ctd\u003eFalse\u003c/td\u003e\n      \u003ctd\u003e58.81\u003c/td\u003e\n      \u003ctd\u003e4.029\u003c/td\u003e\n      \u003ctd\u003e12613.98\u003c/td\u003e\n      \u003ctd\u003eNaN\u003c/td\u003e\n      \u003ctd\u003e11.5\u003c/td\u003e\n      \u003ctd\u003e1705.28\u003c/td\u003e\n      \u003ctd\u003e3600.79\u003c/td\u003e\n      \u003ctd\u003e138.106581\u003c/td\u003e\n      \u003ctd\u003e8.150\u003c/td\u003e\n      \u003ctd\u003eA\u003c/td\u003e\n      \u003ctd\u003e203819\u003c/td\u003e\n    \u003c/tr\u003e\n    \u003ctr\u003e\n      \u003cth\u003e...\u003c/th\u003e\n      \u003ctd\u003e...\u003c/td\u003e\n      \u003ctd\u003e...\u003c/td\u003e\n      \u003ctd\u003e...\u003c/td\u003e\n      \u003ctd\u003e...\u003c/td\u003e\n      \u003ctd\u003e...\u003c/td\u003e\n      \u003ctd\u003e...\u003c/td\u003e\n      \u003ctd\u003e...\u003c/td\u003e\n      \u003ctd\u003e...\u003c/td\u003e\n      \u003ctd\u003e...\u003c/td\u003e\n      \u003ctd\u003e...\u003c/td\u003e\n      \u003ctd\u003e...\u003c/td\u003e\n      \u003ctd\u003e...\u003c/td\u003e\n      \u003ctd\u003e...\u003c/td\u003e\n      \u003ctd\u003e...\u003c/td\u003e\n      \u003ctd\u003e...\u003c/td\u003e\n      \u003ctd\u003e...\u003c/td\u003e\n    \u003c/tr\u003e\n    \u003ctr\u003e\n      \u003cth\u003e744\u003c/th\u003e\n      \u003ctd\u003e22\u003c/td\u003e\n      \u003ctd\u003e55\u003c/td\u003e\n      \u003ctd\u003e4/2/10\u003c/td\u003e\n      \u003ctd\u003eNaN\u003c/td\u003e\n      \u003ctd\u003eFalse\u003c/td\u003e\n      \u003ctd\u003e44.96\u003c/td\u003e\n      \u003ctd\u003e2.826\u003c/td\u003e\n      \u003ctd\u003eNaN\u003c/td\u003e\n      \u003ctd\u003eNaN\u003c/td\u003e\n      \u003ctd\u003eNaN\u003c/td\u003e\n      \u003ctd\u003eNaN\u003c/td\u003e\n      \u003ctd\u003eNaN\u003c/td\u003e\n      \u003ctd\u003e135.746499\u003c/td\u003e\n      \u003ctd\u003e8.348\u003c/td\u003e\n      \u003ctd\u003eB\u003c/td\u003e\n      \u003ctd\u003e119557\u003c/td\u003e\n    \u003c/tr\u003e\n    \u003ctr\u003e\n      \u003cth\u003e745\u003c/th\u003e\n      \u003ctd\u003e45\u003c/td\u003e\n      \u003ctd\u003e33\u003c/td\u003e\n      \u003ctd\u003e10/26/12\u003c/td\u003e\n      \u003ctd\u003eNaN\u003c/td\u003e\n      \u003ctd\u003eFalse\u003c/td\u003e\n      \u003ctd\u003e58.85\u003c/td\u003e\n      \u003ctd\u003e3.882\u003c/td\u003e\n      \u003ctd\u003e4018.91\u003c/td\u003e\n      \u003ctd\u003e58.08\u003c/td\u003e\n      \u003ctd\u003e100.0\u003c/td\u003e\n      \u003ctd\u003e211.94\u003c/td\u003e\n      \u003ctd\u003e858.33\u003c/td\u003e\n      \u003ctd\u003e192.308899\u003c/td\u003e\n      \u003ctd\u003e8.667\u003c/td\u003e\n      \u003ctd\u003eB\u003c/td\u003e\n      \u003ctd\u003e118221\u003c/td\u003e\n    \u003c/tr\u003e\n    \u003ctr\u003e\n      \u003cth\u003e746\u003c/th\u003e\n      \u003ctd\u003e17\u003c/td\u003e\n      \u003ctd\u003e11\u003c/td\u003e\n      \u003ctd\u003e1/21/11\u003c/td\u003e\n      \u003ctd\u003eNaN\u003c/td\u003e\n      \u003ctd\u003eFalse\u003c/td\u003e\n      \u003ctd\u003e26.62\u003c/td\u003e\n      \u003ctd\u003e2.934\u003c/td\u003e\n      \u003ctd\u003eNaN\u003c/td\u003e\n      \u003ctd\u003eNaN\u003c/td\u003e\n      \u003ctd\u003eNaN\u003c/td\u003e\n      \u003ctd\u003eNaN\u003c/td\u003e\n      \u003ctd\u003eNaN\u003c/td\u003e\n      \u003ctd\u003e127.440484\u003c/td\u003e\n      \u003ctd\u003e6.866\u003c/td\u003e\n      \u003ctd\u003eB\u003c/td\u003e\n      \u003ctd\u003e93188\u003c/td\u003e\n    \u003c/tr\u003e\n    \u003ctr\u003e\n      \u003cth\u003e747\u003c/th\u003e\n      \u003ctd\u003e5\u003c/td\u003e\n      \u003ctd\u003e97\u003c/td\u003e\n      \u003ctd\u003e2/11/11\u003c/td\u003e\n      \u003ctd\u003eNaN\u003c/td\u003e\n      \u003ctd\u003eTrue\u003c/td\u003e\n      \u003ctd\u003e38.25\u003c/td\u003e\n      \u003ctd\u003e3.022\u003c/td\u003e\n      \u003ctd\u003eNaN\u003c/td\u003e\n      \u003ctd\u003eNaN\u003c/td\u003e\n      \u003ctd\u003eNaN\u003c/td\u003e\n      \u003ctd\u003eNaN\u003c/td\u003e\n      \u003ctd\u003eNaN\u003c/td\u003e\n      \u003ctd\u003e213.494463\u003c/td\u003e\n      \u003ctd\u003e6.634\u003c/td\u003e\n      \u003ctd\u003eB\u003c/td\u003e\n      \u003ctd\u003e34875\u003c/td\u003e\n    \u003c/tr\u003e\n    \u003ctr\u003e\n      \u003cth\u003e748\u003c/th\u003e\n      \u003ctd\u003e17\u003c/td\u003e\n      \u003ctd\u003e23\u003c/td\u003e\n      \u003ctd\u003e3/19/10\u003c/td\u003e\n      \u003ctd\u003eNaN\u003c/td\u003e\n      \u003ctd\u003eFalse\u003c/td\u003e\n      \u003ctd\u003e33.96\u003c/td\u003e\n      \u003ctd\u003e2.782\u003c/td\u003e\n      \u003ctd\u003eNaN\u003c/td\u003e\n      \u003ctd\u003eNaN\u003c/td\u003e\n      \u003ctd\u003eNaN\u003c/td\u003e\n      \u003ctd\u003eNaN\u003c/td\u003e\n      \u003ctd\u003eNaN\u003c/td\u003e\n      \u003ctd\u003e126.606645\u003c/td\u003e\n      \u003ctd\u003e6.548\u003c/td\u003e\n      \u003ctd\u003eB\u003c/td\u003e\n      \u003ctd\u003e93188\u003c/td\u003e\n    \u003c/tr\u003e\n  \u003c/tbody\u003e\n\u003c/table\u003e\n\u003cp\u003e2248 rows × 16 columns\u003c/p\u003e\n\u003c/div\u003e",
                        "text/plain": "     Store  Dept      Date  Weekly_Sales  IsHoliday  Temperature  Fuel_Price  \\\n0       26    92   8/26/11      87235.57      False        61.10       3.796   \n1       34    22   3/25/11       5945.97      False        53.11       3.480   \n2       21    28   12/3/10       1219.89      False        50.43       2.708   \n3        8     9   9/17/10      11972.71      False        75.32       2.582   \n4       19    55   5/18/12       8271.82      False        58.81       4.029   \n..     ...   ...       ...           ...        ...          ...         ...   \n744     22    55    4/2/10           NaN      False        44.96       2.826   \n745     45    33  10/26/12           NaN      False        58.85       3.882   \n746     17    11   1/21/11           NaN      False        26.62       2.934   \n747      5    97   2/11/11           NaN       True        38.25       3.022   \n748     17    23   3/19/10           NaN      False        33.96       2.782   \n\n     MarkDown1  MarkDown2  MarkDown3  MarkDown4  MarkDown5         CPI  \\\n0          NaN        NaN        NaN        NaN        NaN  136.213613   \n1          NaN        NaN        NaN        NaN        NaN  128.616064   \n2          NaN        NaN        NaN        NaN        NaN  211.265543   \n3          NaN        NaN        NaN        NaN        NaN  214.878556   \n4     12613.98        NaN       11.5    1705.28    3600.79  138.106581   \n..         ...        ...        ...        ...        ...         ...   \n744        NaN        NaN        NaN        NaN        NaN  135.746499   \n745    4018.91      58.08      100.0     211.94     858.33  192.308899   \n746        NaN        NaN        NaN        NaN        NaN  127.440484   \n747        NaN        NaN        NaN        NaN        NaN  213.494463   \n748        NaN        NaN        NaN        NaN        NaN  126.606645   \n\n     Unemployment Type    Size  \n0           7.767    A  152513  \n1          10.398    A  158114  \n2           8.163    B  140167  \n3           6.315    A  155078  \n4           8.150    A  203819  \n..            ...  ...     ...  \n744         8.348    B  119557  \n745         8.667    B  118221  \n746         6.866    B   93188  \n747         6.634    B   34875  \n748         6.548    B   93188  \n\n[2248 rows x 16 columns]"
                    },
                    "metadata": {},
                    "output_type": "display_data"
                }
            ],
            "source": [
                "display(df) #has the head as train and has the tail of test "
            ]
        },
        {
            "attachments": {},
            "cell_type": "markdown",
            "metadata": {},
            "source": [
                "Print descriptive statistics"
            ]
        },
        {
            "cell_type": "code",
            "execution_count": 10,
            "metadata": {},
            "outputs": [
                {
                    "data": {
                        "text/html": "\u003cdiv\u003e\n\u003cstyle scoped\u003e\n    .dataframe tbody tr th:only-of-type {\n        vertical-align: middle;\n    }\n\n    .dataframe tbody tr th {\n        vertical-align: top;\n    }\n\n    .dataframe thead th {\n        text-align: right;\n    }\n\u003c/style\u003e\n\u003ctable border=\"1\" class=\"dataframe\"\u003e\n  \u003cthead\u003e\n    \u003ctr style=\"text-align: right;\"\u003e\n      \u003cth\u003e\u003c/th\u003e\n      \u003cth\u003eStore\u003c/th\u003e\n      \u003cth\u003eDept\u003c/th\u003e\n      \u003cth\u003eWeekly_Sales\u003c/th\u003e\n      \u003cth\u003eTemperature\u003c/th\u003e\n      \u003cth\u003eFuel_Price\u003c/th\u003e\n      \u003cth\u003eMarkDown1\u003c/th\u003e\n      \u003cth\u003eMarkDown2\u003c/th\u003e\n      \u003cth\u003eMarkDown3\u003c/th\u003e\n      \u003cth\u003eMarkDown4\u003c/th\u003e\n      \u003cth\u003eMarkDown5\u003c/th\u003e\n      \u003cth\u003eCPI\u003c/th\u003e\n      \u003cth\u003eUnemployment\u003c/th\u003e\n      \u003cth\u003eSize\u003c/th\u003e\n    \u003c/tr\u003e\n  \u003c/thead\u003e\n  \u003ctbody\u003e\n    \u003ctr\u003e\n      \u003cth\u003ecount\u003c/th\u003e\n      \u003ctd\u003e2248.000000\u003c/td\u003e\n      \u003ctd\u003e2248.000000\u003c/td\u003e\n      \u003ctd\u003e1499.000000\u003c/td\u003e\n      \u003ctd\u003e2248.000000\u003c/td\u003e\n      \u003ctd\u003e2248.000000\u003c/td\u003e\n      \u003ctd\u003e810.000000\u003c/td\u003e\n      \u003ctd\u003e588.000000\u003c/td\u003e\n      \u003ctd\u003e753.000000\u003c/td\u003e\n      \u003ctd\u003e734.000000\u003c/td\u003e\n      \u003ctd\u003e816.000000\u003c/td\u003e\n      \u003ctd\u003e2248.000000\u003c/td\u003e\n      \u003ctd\u003e2248.000000\u003c/td\u003e\n      \u003ctd\u003e2248.000000\u003c/td\u003e\n    \u003c/tr\u003e\n    \u003ctr\u003e\n      \u003cth\u003emean\u003c/th\u003e\n      \u003ctd\u003e21.475089\u003c/td\u003e\n      \u003ctd\u003e43.917260\u003c/td\u003e\n      \u003ctd\u003e15898.454396\u003c/td\u003e\n      \u003ctd\u003e59.870049\u003c/td\u003e\n      \u003ctd\u003e3.371355\u003c/td\u003e\n      \u003ctd\u003e7254.319296\u003c/td\u003e\n      \u003ctd\u003e4159.164643\u003c/td\u003e\n      \u003ctd\u003e452.560319\u003c/td\u003e\n      \u003ctd\u003e2978.804019\u003c/td\u003e\n      \u003ctd\u003e4992.157292\u003c/td\u003e\n      \u003ctd\u003e170.963721\u003c/td\u003e\n      \u003ctd\u003e7.968558\u003c/td\u003e\n      \u003ctd\u003e137052.308274\u003c/td\u003e\n    \u003c/tr\u003e\n    \u003ctr\u003e\n      \u003cth\u003estd\u003c/th\u003e\n      \u003ctd\u003e12.643561\u003c/td\u003e\n      \u003ctd\u003e30.575773\u003c/td\u003e\n      \u003ctd\u003e22102.840377\u003c/td\u003e\n      \u003ctd\u003e18.231536\u003c/td\u003e\n      \u003ctd\u003e0.456375\u003c/td\u003e\n      \u003ctd\u003e8068.998916\u003c/td\u003e\n      \u003ctd\u003e10710.433387\u003c/td\u003e\n      \u003ctd\u003e5153.756900\u003c/td\u003e\n      \u003ctd\u003e5155.202008\u003c/td\u003e\n      \u003ctd\u003e8521.057821\u003c/td\u003e\n      \u003ctd\u003e39.144274\u003c/td\u003e\n      \u003ctd\u003e1.907582\u003c/td\u003e\n      \u003ctd\u003e60596.961145\u003c/td\u003e\n    \u003c/tr\u003e\n    \u003ctr\u003e\n      \u003cth\u003emin\u003c/th\u003e\n      \u003ctd\u003e1.000000\u003c/td\u003e\n      \u003ctd\u003e1.000000\u003c/td\u003e\n      \u003ctd\u003e-7.500000\u003c/td\u003e\n      \u003ctd\u003e6.230000\u003c/td\u003e\n      \u003ctd\u003e2.514000\u003c/td\u003e\n      \u003ctd\u003e0.270000\u003c/td\u003e\n      \u003ctd\u003e-192.000000\u003c/td\u003e\n      \u003ctd\u003e-29.100000\u003c/td\u003e\n      \u003ctd\u003e0.920000\u003c/td\u003e\n      \u003ctd\u003e246.460000\u003c/td\u003e\n      \u003ctd\u003e126.064000\u003c/td\u003e\n      \u003ctd\u003e3.879000\u003c/td\u003e\n      \u003ctd\u003e34875.000000\u003c/td\u003e\n    \u003c/tr\u003e\n    \u003ctr\u003e\n      \u003cth\u003e25%\u003c/th\u003e\n      \u003ctd\u003e11.000000\u003c/td\u003e\n      \u003ctd\u003e18.000000\u003c/td\u003e\n      \u003ctd\u003e2039.375000\u003c/td\u003e\n      \u003ctd\u003e47.307500\u003c/td\u003e\n      \u003ctd\u003e2.934750\u003c/td\u003e\n      \u003ctd\u003e2470.925000\u003c/td\u003e\n      \u003ctd\u003e57.990000\u003c/td\u003e\n      \u003ctd\u003e4.550000\u003c/td\u003e\n      \u003ctd\u003e543.402500\u003c/td\u003e\n      \u003ctd\u003e2073.315000\u003c/td\u003e\n      \u003ctd\u003e131.940807\u003c/td\u003e\n      \u003ctd\u003e6.858000\u003c/td\u003e\n      \u003ctd\u003e93638.000000\u003c/td\u003e\n    \u003c/tr\u003e\n    \u003ctr\u003e\n      \u003cth\u003e50%\u003c/th\u003e\n      \u003ctd\u003e21.000000\u003c/td\u003e\n      \u003ctd\u003e36.000000\u003c/td\u003e\n      \u003ctd\u003e7476.250000\u003c/td\u003e\n      \u003ctd\u003e62.075000\u003c/td\u003e\n      \u003ctd\u003e3.481500\u003c/td\u003e\n      \u003ctd\u003e5446.220000\u003c/td\u003e\n      \u003ctd\u003e292.400000\u003c/td\u003e\n      \u003ctd\u003e21.480000\u003c/td\u003e\n      \u003ctd\u003e1354.970000\u003c/td\u003e\n      \u003ctd\u003e3550.585000\u003c/td\u003e\n      \u003ctd\u003e181.971870\u003c/td\u003e\n      \u003ctd\u003e7.866000\u003c/td\u003e\n      \u003ctd\u003e128107.000000\u003c/td\u003e\n    \u003c/tr\u003e\n    \u003ctr\u003e\n      \u003cth\u003e75%\u003c/th\u003e\n      \u003ctd\u003e32.000000\u003c/td\u003e\n      \u003ctd\u003e74.000000\u003c/td\u003e\n      \u003ctd\u003e20305.695000\u003c/td\u003e\n      \u003ctd\u003e73.775000\u003c/td\u003e\n      \u003ctd\u003e3.744500\u003c/td\u003e\n      \u003ctd\u003e9363.515000\u003c/td\u003e\n      \u003ctd\u003e2945.695000\u003c/td\u003e\n      \u003ctd\u003e91.690000\u003c/td\u003e\n      \u003ctd\u003e3556.080000\u003c/td\u003e\n      \u003ctd\u003e5525.632500\u003c/td\u003e\n      \u003ctd\u003e212.018867\u003c/td\u003e\n      \u003ctd\u003e8.567000\u003c/td\u003e\n      \u003ctd\u003e202505.000000\u003c/td\u003e\n    \u003c/tr\u003e\n    \u003ctr\u003e\n      \u003cth\u003emax\u003c/th\u003e\n      \u003ctd\u003e45.000000\u003c/td\u003e\n      \u003ctd\u003e99.000000\u003c/td\u003e\n      \u003ctd\u003e214448.960000\u003c/td\u003e\n      \u003ctd\u003e99.220000\u003c/td\u003e\n      \u003ctd\u003e4.468000\u003c/td\u003e\n      \u003ctd\u003e75149.790000\u003c/td\u003e\n      \u003ctd\u003e104519.540000\u003c/td\u003e\n      \u003ctd\u003e89402.640000\u003c/td\u003e\n      \u003ctd\u003e67474.850000\u003c/td\u003e\n      \u003ctd\u003e108519.280000\u003c/td\u003e\n      \u003ctd\u003e227.232807\u003c/td\u003e\n      \u003ctd\u003e14.313000\u003c/td\u003e\n      \u003ctd\u003e219622.000000\u003c/td\u003e\n    \u003c/tr\u003e\n  \u003c/tbody\u003e\n\u003c/table\u003e\n\u003c/div\u003e",
                        "text/plain": "             Store         Dept   Weekly_Sales  Temperature   Fuel_Price  \\\ncount  2248.000000  2248.000000    1499.000000  2248.000000  2248.000000   \nmean     21.475089    43.917260   15898.454396    59.870049     3.371355   \nstd      12.643561    30.575773   22102.840377    18.231536     0.456375   \nmin       1.000000     1.000000      -7.500000     6.230000     2.514000   \n25%      11.000000    18.000000    2039.375000    47.307500     2.934750   \n50%      21.000000    36.000000    7476.250000    62.075000     3.481500   \n75%      32.000000    74.000000   20305.695000    73.775000     3.744500   \nmax      45.000000    99.000000  214448.960000    99.220000     4.468000   \n\n          MarkDown1      MarkDown2     MarkDown3     MarkDown4      MarkDown5  \\\ncount    810.000000     588.000000    753.000000    734.000000     816.000000   \nmean    7254.319296    4159.164643    452.560319   2978.804019    4992.157292   \nstd     8068.998916   10710.433387   5153.756900   5155.202008    8521.057821   \nmin        0.270000    -192.000000    -29.100000      0.920000     246.460000   \n25%     2470.925000      57.990000      4.550000    543.402500    2073.315000   \n50%     5446.220000     292.400000     21.480000   1354.970000    3550.585000   \n75%     9363.515000    2945.695000     91.690000   3556.080000    5525.632500   \nmax    75149.790000  104519.540000  89402.640000  67474.850000  108519.280000   \n\n               CPI  Unemployment           Size  \ncount  2248.000000   2248.000000    2248.000000  \nmean    170.963721      7.968558  137052.308274  \nstd      39.144274      1.907582   60596.961145  \nmin     126.064000      3.879000   34875.000000  \n25%     131.940807      6.858000   93638.000000  \n50%     181.971870      7.866000  128107.000000  \n75%     212.018867      8.567000  202505.000000  \nmax     227.232807     14.313000  219622.000000  "
                    },
                    "execution_count": 10,
                    "metadata": {},
                    "output_type": "execute_result"
                }
            ],
            "source": [
                "df.describe()"
            ]
        },
        {
            "attachments": {},
            "cell_type": "markdown",
            "metadata": {},
            "source": [
                "### Find all the null values we'll need to take care of. "
            ]
        },
        {
            "cell_type": "code",
            "execution_count": 11,
            "metadata": {},
            "outputs": [
                {
                    "data": {
                        "text/plain": "Store              0\nDept               0\nDate               0\nWeekly_Sales     749\nIsHoliday          0\nTemperature        0\nFuel_Price         0\nMarkDown1       1438\nMarkDown2       1660\nMarkDown3       1495\nMarkDown4       1514\nMarkDown5       1432\nCPI                0\nUnemployment       0\nType               0\nSize               0\ndtype: int64"
                    },
                    "execution_count": 11,
                    "metadata": {},
                    "output_type": "execute_result"
                }
            ],
            "source": [
                "df.isnull().sum()"
            ]
        },
        {
            "attachments": {},
            "cell_type": "markdown",
            "metadata": {},
            "source": [
                "Weekly_Sales will be taken care of when we make predictions, but the MarkDown values will have to be changed. "
            ]
        },
        {
            "attachments": {},
            "cell_type": "markdown",
            "metadata": {},
            "source": [
                "We will be creating features that will help us indicate if a markdown was active or not. "
            ]
        },
        {
            "cell_type": "code",
            "execution_count": 12,
            "metadata": {},
            "outputs": [],
            "source": [
                "df = df.assign(md1_present = df.MarkDown1.notnull())\n",
                "df = df.assign(md2_present = df.MarkDown2.notnull())\n",
                "df = df.assign(md3_present = df.MarkDown3.notnull())\n",
                "df = df.assign(md4_present = df.MarkDown4.notnull())\n",
                "df = df.assign(md5_present = df.MarkDown5.notnull())"
            ]
        },
        {
            "attachments": {},
            "cell_type": "markdown",
            "metadata": {},
            "source": [
                "Fill all the null value with zero to indicate there was no markdown. "
            ]
        },
        {
            "cell_type": "code",
            "execution_count": 13,
            "metadata": {},
            "outputs": [],
            "source": [
                "df.fillna(0, inplace=True)"
            ]
        },
        {
            "cell_type": "code",
            "execution_count": 14,
            "metadata": {},
            "outputs": [
                {
                    "data": {
                        "text/html": "\u003cdiv\u003e\n\u003cstyle scoped\u003e\n    .dataframe tbody tr th:only-of-type {\n        vertical-align: middle;\n    }\n\n    .dataframe tbody tr th {\n        vertical-align: top;\n    }\n\n    .dataframe thead th {\n        text-align: right;\n    }\n\u003c/style\u003e\n\u003ctable border=\"1\" class=\"dataframe\"\u003e\n  \u003cthead\u003e\n    \u003ctr style=\"text-align: right;\"\u003e\n      \u003cth\u003e\u003c/th\u003e\n      \u003cth\u003eStore\u003c/th\u003e\n      \u003cth\u003eDept\u003c/th\u003e\n      \u003cth\u003eDate\u003c/th\u003e\n      \u003cth\u003eWeekly_Sales\u003c/th\u003e\n      \u003cth\u003eIsHoliday\u003c/th\u003e\n      \u003cth\u003eTemperature\u003c/th\u003e\n      \u003cth\u003eFuel_Price\u003c/th\u003e\n      \u003cth\u003eMarkDown1\u003c/th\u003e\n      \u003cth\u003eMarkDown2\u003c/th\u003e\n      \u003cth\u003eMarkDown3\u003c/th\u003e\n      \u003cth\u003e...\u003c/th\u003e\n      \u003cth\u003eMarkDown5\u003c/th\u003e\n      \u003cth\u003eCPI\u003c/th\u003e\n      \u003cth\u003eUnemployment\u003c/th\u003e\n      \u003cth\u003eType\u003c/th\u003e\n      \u003cth\u003eSize\u003c/th\u003e\n      \u003cth\u003emd1_present\u003c/th\u003e\n      \u003cth\u003emd2_present\u003c/th\u003e\n      \u003cth\u003emd3_present\u003c/th\u003e\n      \u003cth\u003emd4_present\u003c/th\u003e\n      \u003cth\u003emd5_present\u003c/th\u003e\n    \u003c/tr\u003e\n  \u003c/thead\u003e\n  \u003ctbody\u003e\n    \u003ctr\u003e\n      \u003cth\u003e0\u003c/th\u003e\n      \u003ctd\u003e26\u003c/td\u003e\n      \u003ctd\u003e92\u003c/td\u003e\n      \u003ctd\u003e8/26/11\u003c/td\u003e\n      \u003ctd\u003e87235.57\u003c/td\u003e\n      \u003ctd\u003eFalse\u003c/td\u003e\n      \u003ctd\u003e61.10\u003c/td\u003e\n      \u003ctd\u003e3.796\u003c/td\u003e\n      \u003ctd\u003e0.00\u003c/td\u003e\n      \u003ctd\u003e0.0\u003c/td\u003e\n      \u003ctd\u003e0.0\u003c/td\u003e\n      \u003ctd\u003e...\u003c/td\u003e\n      \u003ctd\u003e0.00\u003c/td\u003e\n      \u003ctd\u003e136.213613\u003c/td\u003e\n      \u003ctd\u003e7.767\u003c/td\u003e\n      \u003ctd\u003eA\u003c/td\u003e\n      \u003ctd\u003e152513\u003c/td\u003e\n      \u003ctd\u003eFalse\u003c/td\u003e\n      \u003ctd\u003eFalse\u003c/td\u003e\n      \u003ctd\u003eFalse\u003c/td\u003e\n      \u003ctd\u003eFalse\u003c/td\u003e\n      \u003ctd\u003eFalse\u003c/td\u003e\n    \u003c/tr\u003e\n    \u003ctr\u003e\n      \u003cth\u003e1\u003c/th\u003e\n      \u003ctd\u003e34\u003c/td\u003e\n      \u003ctd\u003e22\u003c/td\u003e\n      \u003ctd\u003e3/25/11\u003c/td\u003e\n      \u003ctd\u003e5945.97\u003c/td\u003e\n      \u003ctd\u003eFalse\u003c/td\u003e\n      \u003ctd\u003e53.11\u003c/td\u003e\n      \u003ctd\u003e3.480\u003c/td\u003e\n      \u003ctd\u003e0.00\u003c/td\u003e\n      \u003ctd\u003e0.0\u003c/td\u003e\n      \u003ctd\u003e0.0\u003c/td\u003e\n      \u003ctd\u003e...\u003c/td\u003e\n      \u003ctd\u003e0.00\u003c/td\u003e\n      \u003ctd\u003e128.616064\u003c/td\u003e\n      \u003ctd\u003e10.398\u003c/td\u003e\n      \u003ctd\u003eA\u003c/td\u003e\n      \u003ctd\u003e158114\u003c/td\u003e\n      \u003ctd\u003eFalse\u003c/td\u003e\n      \u003ctd\u003eFalse\u003c/td\u003e\n      \u003ctd\u003eFalse\u003c/td\u003e\n      \u003ctd\u003eFalse\u003c/td\u003e\n      \u003ctd\u003eFalse\u003c/td\u003e\n    \u003c/tr\u003e\n    \u003ctr\u003e\n      \u003cth\u003e2\u003c/th\u003e\n      \u003ctd\u003e21\u003c/td\u003e\n      \u003ctd\u003e28\u003c/td\u003e\n      \u003ctd\u003e12/3/10\u003c/td\u003e\n      \u003ctd\u003e1219.89\u003c/td\u003e\n      \u003ctd\u003eFalse\u003c/td\u003e\n      \u003ctd\u003e50.43\u003c/td\u003e\n      \u003ctd\u003e2.708\u003c/td\u003e\n      \u003ctd\u003e0.00\u003c/td\u003e\n      \u003ctd\u003e0.0\u003c/td\u003e\n      \u003ctd\u003e0.0\u003c/td\u003e\n      \u003ctd\u003e...\u003c/td\u003e\n      \u003ctd\u003e0.00\u003c/td\u003e\n      \u003ctd\u003e211.265543\u003c/td\u003e\n      \u003ctd\u003e8.163\u003c/td\u003e\n      \u003ctd\u003eB\u003c/td\u003e\n      \u003ctd\u003e140167\u003c/td\u003e\n      \u003ctd\u003eFalse\u003c/td\u003e\n      \u003ctd\u003eFalse\u003c/td\u003e\n      \u003ctd\u003eFalse\u003c/td\u003e\n      \u003ctd\u003eFalse\u003c/td\u003e\n      \u003ctd\u003eFalse\u003c/td\u003e\n    \u003c/tr\u003e\n    \u003ctr\u003e\n      \u003cth\u003e3\u003c/th\u003e\n      \u003ctd\u003e8\u003c/td\u003e\n      \u003ctd\u003e9\u003c/td\u003e\n      \u003ctd\u003e9/17/10\u003c/td\u003e\n      \u003ctd\u003e11972.71\u003c/td\u003e\n      \u003ctd\u003eFalse\u003c/td\u003e\n      \u003ctd\u003e75.32\u003c/td\u003e\n      \u003ctd\u003e2.582\u003c/td\u003e\n      \u003ctd\u003e0.00\u003c/td\u003e\n      \u003ctd\u003e0.0\u003c/td\u003e\n      \u003ctd\u003e0.0\u003c/td\u003e\n      \u003ctd\u003e...\u003c/td\u003e\n      \u003ctd\u003e0.00\u003c/td\u003e\n      \u003ctd\u003e214.878556\u003c/td\u003e\n      \u003ctd\u003e6.315\u003c/td\u003e\n      \u003ctd\u003eA\u003c/td\u003e\n      \u003ctd\u003e155078\u003c/td\u003e\n      \u003ctd\u003eFalse\u003c/td\u003e\n      \u003ctd\u003eFalse\u003c/td\u003e\n      \u003ctd\u003eFalse\u003c/td\u003e\n      \u003ctd\u003eFalse\u003c/td\u003e\n      \u003ctd\u003eFalse\u003c/td\u003e\n    \u003c/tr\u003e\n    \u003ctr\u003e\n      \u003cth\u003e4\u003c/th\u003e\n      \u003ctd\u003e19\u003c/td\u003e\n      \u003ctd\u003e55\u003c/td\u003e\n      \u003ctd\u003e5/18/12\u003c/td\u003e\n      \u003ctd\u003e8271.82\u003c/td\u003e\n      \u003ctd\u003eFalse\u003c/td\u003e\n      \u003ctd\u003e58.81\u003c/td\u003e\n      \u003ctd\u003e4.029\u003c/td\u003e\n      \u003ctd\u003e12613.98\u003c/td\u003e\n      \u003ctd\u003e0.0\u003c/td\u003e\n      \u003ctd\u003e11.5\u003c/td\u003e\n      \u003ctd\u003e...\u003c/td\u003e\n      \u003ctd\u003e3600.79\u003c/td\u003e\n      \u003ctd\u003e138.106581\u003c/td\u003e\n      \u003ctd\u003e8.150\u003c/td\u003e\n      \u003ctd\u003eA\u003c/td\u003e\n      \u003ctd\u003e203819\u003c/td\u003e\n      \u003ctd\u003eTrue\u003c/td\u003e\n      \u003ctd\u003eFalse\u003c/td\u003e\n      \u003ctd\u003eTrue\u003c/td\u003e\n      \u003ctd\u003eTrue\u003c/td\u003e\n      \u003ctd\u003eTrue\u003c/td\u003e\n    \u003c/tr\u003e\n  \u003c/tbody\u003e\n\u003c/table\u003e\n\u003cp\u003e5 rows × 21 columns\u003c/p\u003e\n\u003c/div\u003e",
                        "text/plain": "   Store  Dept     Date  Weekly_Sales  IsHoliday  Temperature  Fuel_Price  \\\n0     26    92  8/26/11      87235.57      False        61.10       3.796   \n1     34    22  3/25/11       5945.97      False        53.11       3.480   \n2     21    28  12/3/10       1219.89      False        50.43       2.708   \n3      8     9  9/17/10      11972.71      False        75.32       2.582   \n4     19    55  5/18/12       8271.82      False        58.81       4.029   \n\n   MarkDown1  MarkDown2  MarkDown3  ...  MarkDown5         CPI  Unemployment  \\\n0       0.00        0.0        0.0  ...       0.00  136.213613         7.767   \n1       0.00        0.0        0.0  ...       0.00  128.616064        10.398   \n2       0.00        0.0        0.0  ...       0.00  211.265543         8.163   \n3       0.00        0.0        0.0  ...       0.00  214.878556         6.315   \n4   12613.98        0.0       11.5  ...    3600.79  138.106581         8.150   \n\n   Type    Size  md1_present  md2_present  md3_present  md4_present  \\\n0     A  152513        False        False        False        False   \n1     A  158114        False        False        False        False   \n2     B  140167        False        False        False        False   \n3     A  155078        False        False        False        False   \n4     A  203819         True        False         True         True   \n\n   md5_present  \n0        False  \n1        False  \n2        False  \n3        False  \n4         True  \n\n[5 rows x 21 columns]"
                    },
                    "execution_count": 14,
                    "metadata": {},
                    "output_type": "execute_result"
                }
            ],
            "source": [
                "df.head()"
            ]
        },
        {
            "attachments": {},
            "cell_type": "markdown",
            "metadata": {},
            "source": [
                "# Prepping the Data for Testing"
            ]
        },
        {
            "attachments": {},
            "cell_type": "markdown",
            "metadata": {},
            "source": [
                "Create some dummy variebles for the categorical data. "
            ]
        },
        {
            "cell_type": "code",
            "execution_count": 15,
            "metadata": {},
            "outputs": [],
            "source": [
                "df['Type'] = 'Type_' + df['Type'].map(str)\n",
                "df['Store'] = 'Store_' + df['Store'].map(str)\n",
                "df['Dept'] = 'Dept_' + df['Dept'].map(str)"
            ]
        },
        {
            "cell_type": "code",
            "execution_count": 16,
            "metadata": {},
            "outputs": [],
            "source": [
                "type_dummies = pd.get_dummies(df['Type'])\n",
                "store_dummies = pd.get_dummies(df['Store'])\n",
                "dept_dummies = pd.get_dummies(df['Dept'])"
            ]
        },
        {
            "cell_type": "code",
            "execution_count": 17,
            "metadata": {},
            "outputs": [],
            "source": [
                "#add dummies to the dataframe\n",
                "df = pd.concat([df,type_dummies,store_dummies,dept_dummies],axis=1)"
            ]
        },
        {
            "cell_type": "code",
            "execution_count": 18,
            "metadata": {},
            "outputs": [],
            "source": [
                "# Remove originals\n",
                "del df['Type']\n",
                "del df['Store']\n",
                "del df['Dept']\n",
                ""
            ]
        },
        {
            "cell_type": "code",
            "execution_count": 19,
            "metadata": {},
            "outputs": [],
            "source": [
                "del df['Date']"
            ]
        },
        {
            "cell_type": "code",
            "execution_count": 20,
            "metadata": {},
            "outputs": [
                {
                    "data": {
                        "text/plain": "Weekly_Sales    float64\nIsHoliday          bool\nTemperature     float64\nFuel_Price      float64\nMarkDown1       float64\n                 ...   \nDept_95           uint8\nDept_96           uint8\nDept_97           uint8\nDept_98           uint8\nDept_99           uint8\nLength: 142, dtype: object"
                    },
                    "execution_count": 20,
                    "metadata": {},
                    "output_type": "execute_result"
                }
            ],
            "source": [
                "df.dtypes\n",
                ""
            ]
        },
        {
            "attachments": {},
            "cell_type": "markdown",
            "metadata": {},
            "source": [
                "Split up the dataframe"
            ]
        },
        {
            "cell_type": "code",
            "execution_count": 21,
            "metadata": {},
            "outputs": [],
            "source": [
                "train = df.iloc[:1499]\n",
                "test = df.iloc[1499:]\n",
                ""
            ]
        },
        {
            "cell_type": "code",
            "execution_count": 22,
            "metadata": {},
            "outputs": [],
            "source": [
                "test = test.drop('Weekly_Sales', axis = 1)\n",
                ""
            ]
        },
        {
            "cell_type": "code",
            "execution_count": 23,
            "metadata": {},
            "outputs": [
                {
                    "data": {
                        "text/plain": "(1499, 141)"
                    },
                    "execution_count": 23,
                    "metadata": {},
                    "output_type": "execute_result"
                }
            ],
            "source": [
                "y_arr = train['Weekly_Sales'].values\n",
                "X_arr = train.drop('Weekly_Sales', axis = 1).values\n",
                "X_arr.shape"
            ]
        },
        {
            "cell_type": "code",
            "execution_count": 24,
            "metadata": {},
            "outputs": [
                {
                    "data": {
                        "text/plain": "array([[False, 61.1, 3.796, ..., 0, 0, 0],\n       [False, 53.11, 3.48, ..., 0, 0, 0],\n       [False, 50.43, 2.708, ..., 0, 0, 0],\n       ...,\n       [False, 63.61, 3.711, ..., 0, 0, 0],\n       [False, 73.56, 4.193, ..., 0, 0, 0],\n       [False, 45.84, 3.867, ..., 0, 0, 0]], dtype=object)"
                    },
                    "metadata": {},
                    "output_type": "display_data"
                }
            ],
            "source": [
                "display(X_arr)"
            ]
        },
        {
            "attachments": {},
            "cell_type": "markdown",
            "metadata": {},
            "source": [
                "Convert the NumPy array to tensor"
            ]
        },
        {
            "cell_type": "code",
            "execution_count": 25,
            "metadata": {},
            "outputs": [
                {
                    "name": "stderr",
                    "output_type": "stream",
                    "text": "2023-12-08 06:22:07.858281: I tensorflow/core/common_runtime/process_util.cc:146] Creating new thread pool with default inter op setting: 2. Tune using inter_op_parallelism_threads for best performance.\n"
                }
            ],
            "source": [
                "y = tf.convert_to_tensor(y_arr)\n",
                "X = tf.convert_to_tensor(X_arr, dtype = tf.float32)\n",
                ""
            ]
        },
        {
            "attachments": {},
            "cell_type": "markdown",
            "metadata": {},
            "source": [
                "# Creating the baseline model using Keras"
            ]
        },
        {
            "cell_type": "code",
            "execution_count": 26,
            "metadata": {},
            "outputs": [],
            "source": [
                "from keras.layers import Dense, Activation\n",
                "from keras.models import Sequential\n",
                "from keras import metrics"
            ]
        },
        {
            "attachments": {},
            "cell_type": "markdown",
            "metadata": {},
            "source": [
                "1. Initializing the Model"
            ]
        },
        {
            "cell_type": "code",
            "execution_count": 27,
            "metadata": {},
            "outputs": [],
            "source": [
                "model = Sequential()"
            ]
        },
        {
            "attachments": {},
            "cell_type": "markdown",
            "metadata": {},
            "source": [
                "2. Adding the input layer"
            ]
        },
        {
            "cell_type": "code",
            "execution_count": 28,
            "metadata": {},
            "outputs": [],
            "source": [
                "model.add(Dense(1, input_dim = 141))"
            ]
        },
        {
            "attachments": {},
            "cell_type": "markdown",
            "metadata": {},
            "source": [
                "3. Compile model"
            ]
        },
        {
            "cell_type": "code",
            "execution_count": 29,
            "metadata": {},
            "outputs": [],
            "source": [
                "model.compile(optimizer = 'adam', loss = 'mae', metrics = [metrics.mean_absolute_error, metrics.mean_absolute_percentage_error])"
            ]
        },
        {
            "attachments": {},
            "cell_type": "markdown",
            "metadata": {},
            "source": [
                "4. Train the model"
            ]
        },
        {
            "cell_type": "code",
            "execution_count": 30,
            "metadata": {},
            "outputs": [
                {
                    "name": "stdout",
                    "output_type": "stream",
                    "text": "Epoch 1/10\n\r 1/12 [=\u003e............................] - ETA: 2s - loss: 22870.9590 - mean_absolute_error: 22870.9590 - mean_absolute_percentage_error: 2628.6069\u0008\u0008\u0008\u0008\u0008\u0008\u0008\u0008\u0008\u0008\u0008\u0008\u0008\u0008\u0008\u0008\u0008\u0008\u0008\u0008\u0008\u0008\u0008\u0008\u0008\u0008\u0008\u0008\u0008\u0008\u0008\u0008\u0008\u0008\u0008\u0008\u0008\u0008\u0008\u0008\u0008\u0008\u0008\u0008\u0008\u0008\u0008\u0008\u0008\u0008\u0008\u0008\u0008\u0008\u0008\u0008\u0008\u0008\u0008\u0008\u0008\u0008\u0008\u0008\u0008\u0008\u0008\u0008\u0008\u0008\u0008\u0008\u0008\u0008\u0008\u0008\u0008\u0008\u0008\u0008\u0008\u0008\u0008\u0008\u0008\u0008\u0008\u0008\u0008\u0008\u0008\u0008\u0008\u0008\u0008\u0008\u0008\u0008\u0008\u0008\u0008\u0008\u0008\u0008\u0008\u0008\u0008\u0008\u0008\u0008\u0008\u0008\u0008\u0008\u0008\u0008\u0008\u0008\u0008\u0008\u0008\u0008\u0008\u0008\u0008\u0008\u0008\u0008\u0008\u0008\u0008\u0008\u0008\u0008\u0008\u0008\u0008\u0008\u0008\u0008\u0008\u0008\u0008\u0008\u0008\r12/12 [==============================] - 0s 2ms/step - loss: 23900.5293 - mean_absolute_error: 23900.5293 - mean_absolute_percentage_error: 4947.8228\nEpoch 2/10\n\r 1/12 [=\u003e............................] - ETA: 0s - loss: 23264.9375 - mean_absolute_error: 23264.9375 - mean_absolute_percentage_error: 694.2526\u0008\u0008\u0008\u0008\u0008\u0008\u0008\u0008\u0008\u0008\u0008\u0008\u0008\u0008\u0008\u0008\u0008\u0008\u0008\u0008\u0008\u0008\u0008\u0008\u0008\u0008\u0008\u0008\u0008\u0008\u0008\u0008\u0008\u0008\u0008\u0008\u0008\u0008\u0008\u0008\u0008\u0008\u0008\u0008\u0008\u0008\u0008\u0008\u0008\u0008\u0008\u0008\u0008\u0008\u0008\u0008\u0008\u0008\u0008\u0008\u0008\u0008\u0008\u0008\u0008\u0008\u0008\u0008\u0008\u0008\u0008\u0008\u0008\u0008\u0008\u0008\u0008\u0008\u0008\u0008\u0008\u0008\u0008\u0008\u0008\u0008\u0008\u0008\u0008\u0008\u0008\u0008\u0008\u0008\u0008\u0008\u0008\u0008\u0008\u0008\u0008\u0008\u0008\u0008\u0008\u0008\u0008\u0008\u0008\u0008\u0008\u0008\u0008\u0008\u0008\u0008\u0008\u0008\u0008\u0008\u0008\u0008\u0008\u0008\u0008\u0008\u0008\u0008\u0008\u0008\u0008\u0008\u0008\u0008\u0008\u0008\u0008\u0008\u0008\u0008\u0008\u0008\u0008\u0008\r12/12 [==============================] - 0s 1ms/step - loss: 22205.2988 - mean_absolute_error: 22205.2988 - mean_absolute_percentage_error: 3891.7725\nEpoch 3/10\n\r 1/12 [=\u003e............................] - ETA: 0s - loss: 19026.1523 - mean_absolute_error: 19026.1523 - mean_absolute_percentage_error: 4357.1167\u0008\u0008\u0008\u0008\u0008\u0008\u0008\u0008\u0008\u0008\u0008\u0008\u0008\u0008\u0008\u0008\u0008\u0008\u0008\u0008\u0008\u0008\u0008\u0008\u0008\u0008\u0008\u0008\u0008\u0008\u0008\u0008\u0008\u0008\u0008\u0008\u0008\u0008\u0008\u0008\u0008\u0008\u0008\u0008\u0008\u0008\u0008\u0008\u0008\u0008\u0008\u0008\u0008\u0008\u0008\u0008\u0008\u0008\u0008\u0008\u0008\u0008\u0008\u0008\u0008\u0008\u0008\u0008\u0008\u0008\u0008\u0008\u0008\u0008\u0008\u0008\u0008\u0008\u0008\u0008\u0008\u0008\u0008\u0008\u0008\u0008\u0008\u0008\u0008\u0008\u0008\u0008\u0008\u0008\u0008\u0008\u0008\u0008\u0008\u0008\u0008\u0008\u0008\u0008\u0008\u0008\u0008\u0008\u0008\u0008\u0008\u0008\u0008\u0008\u0008\u0008\u0008\u0008\u0008\u0008\u0008\u0008\u0008\u0008\u0008\u0008\u0008\u0008\u0008\u0008\u0008\u0008\u0008\u0008\u0008\u0008\u0008\u0008\u0008\u0008\u0008\u0008\u0008\u0008\u0008\r12/12 [==============================] - 0s 1ms/step - loss: 20513.8945 - mean_absolute_error: 20513.8945 - mean_absolute_percentage_error: 2896.9600\nEpoch 4/10\n\r 1/12 [=\u003e............................] - ETA: 0s - loss: 18038.4434 - mean_absolute_error: 18038.4434 - mean_absolute_percentage_error: 994.7162\u0008\u0008\u0008\u0008\u0008\u0008\u0008\u0008\u0008\u0008\u0008\u0008\u0008\u0008\u0008\u0008\u0008\u0008\u0008\u0008\u0008\u0008\u0008\u0008\u0008\u0008\u0008\u0008\u0008\u0008\u0008\u0008\u0008\u0008\u0008\u0008\u0008\u0008\u0008\u0008\u0008\u0008\u0008\u0008\u0008\u0008\u0008\u0008\u0008\u0008\u0008\u0008\u0008\u0008\u0008\u0008\u0008\u0008\u0008\u0008\u0008\u0008\u0008\u0008\u0008\u0008\u0008\u0008\u0008\u0008\u0008\u0008\u0008\u0008\u0008\u0008\u0008\u0008\u0008\u0008\u0008\u0008\u0008\u0008\u0008\u0008\u0008\u0008\u0008\u0008\u0008\u0008\u0008\u0008\u0008\u0008\u0008\u0008\u0008\u0008\u0008\u0008\u0008\u0008\u0008\u0008\u0008\u0008\u0008\u0008\u0008\u0008\u0008\u0008\u0008\u0008\u0008\u0008\u0008\u0008\u0008\u0008\u0008\u0008\u0008\u0008\u0008\u0008\u0008\u0008\u0008\u0008\u0008\u0008\u0008\u0008\u0008\u0008\u0008\u0008\u0008\u0008\u0008\u0008\r12/12 [==============================] - 0s 1ms/step - loss: 18817.3242 - mean_absolute_error: 18817.3242 - mean_absolute_percentage_error: 2054.9170\nEpoch 5/10\n\r 1/12 [=\u003e............................] - ETA: 0s - loss: 20480.7500 - mean_absolute_error: 20480.7500 - mean_absolute_percentage_error: 653.3475\u0008\u0008\u0008\u0008\u0008\u0008\u0008\u0008\u0008\u0008\u0008\u0008\u0008\u0008\u0008\u0008\u0008\u0008\u0008\u0008\u0008\u0008\u0008\u0008\u0008\u0008\u0008\u0008\u0008\u0008\u0008\u0008\u0008\u0008\u0008\u0008\u0008\u0008\u0008\u0008\u0008\u0008\u0008\u0008\u0008\u0008\u0008\u0008\u0008\u0008\u0008\u0008\u0008\u0008\u0008\u0008\u0008\u0008\u0008\u0008\u0008\u0008\u0008\u0008\u0008\u0008\u0008\u0008\u0008\u0008\u0008\u0008\u0008\u0008\u0008\u0008\u0008\u0008\u0008\u0008\u0008\u0008\u0008\u0008\u0008\u0008\u0008\u0008\u0008\u0008\u0008\u0008\u0008\u0008\u0008\u0008\u0008\u0008\u0008\u0008\u0008\u0008\u0008\u0008\u0008\u0008\u0008\u0008\u0008\u0008\u0008\u0008\u0008\u0008\u0008\u0008\u0008\u0008\u0008\u0008\u0008\u0008\u0008\u0008\u0008\u0008\u0008\u0008\u0008\u0008\u0008\u0008\u0008\u0008\u0008\u0008\u0008\u0008\u0008\u0008\u0008\u0008\u0008\u0008\r12/12 [==============================] - 0s 1ms/step - loss: 17144.9785 - mean_absolute_error: 17144.9785 - mean_absolute_percentage_error: 837.9722\nEpoch 6/10\n\r 1/12 [=\u003e............................] - ETA: 0s - loss: 20053.8828 - mean_absolute_error: 20053.8828 - mean_absolute_percentage_error: 241.6993\u0008\u0008\u0008\u0008\u0008\u0008\u0008\u0008\u0008\u0008\u0008\u0008\u0008\u0008\u0008\u0008\u0008\u0008\u0008\u0008\u0008\u0008\u0008\u0008\u0008\u0008\u0008\u0008\u0008\u0008\u0008\u0008\u0008\u0008\u0008\u0008\u0008\u0008\u0008\u0008\u0008\u0008\u0008\u0008\u0008\u0008\u0008\u0008\u0008\u0008\u0008\u0008\u0008\u0008\u0008\u0008\u0008\u0008\u0008\u0008\u0008\u0008\u0008\u0008\u0008\u0008\u0008\u0008\u0008\u0008\u0008\u0008\u0008\u0008\u0008\u0008\u0008\u0008\u0008\u0008\u0008\u0008\u0008\u0008\u0008\u0008\u0008\u0008\u0008\u0008\u0008\u0008\u0008\u0008\u0008\u0008\u0008\u0008\u0008\u0008\u0008\u0008\u0008\u0008\u0008\u0008\u0008\u0008\u0008\u0008\u0008\u0008\u0008\u0008\u0008\u0008\u0008\u0008\u0008\u0008\u0008\u0008\u0008\u0008\u0008\u0008\u0008\u0008\u0008\u0008\u0008\u0008\u0008\u0008\u0008\u0008\u0008\u0008\u0008\u0008\u0008\u0008\u0008\u0008\r12/12 [==============================] - 0s 1ms/step - loss: 15612.4580 - mean_absolute_error: 15612.4580 - mean_absolute_percentage_error: 415.4823\nEpoch 7/10\n\r 1/12 [=\u003e............................] - ETA: 0s - loss: 13852.2617 - mean_absolute_error: 13852.2617 - mean_absolute_percentage_error: 557.7056\u0008\u0008\u0008\u0008\u0008\u0008\u0008\u0008\u0008\u0008\u0008\u0008\u0008\u0008\u0008\u0008\u0008\u0008\u0008\u0008\u0008\u0008\u0008\u0008\u0008\u0008\u0008\u0008\u0008\u0008\u0008\u0008\u0008\u0008\u0008\u0008\u0008\u0008\u0008\u0008\u0008\u0008\u0008\u0008\u0008\u0008\u0008\u0008\u0008\u0008\u0008\u0008\u0008\u0008\u0008\u0008\u0008\u0008\u0008\u0008\u0008\u0008\u0008\u0008\u0008\u0008\u0008\u0008\u0008\u0008\u0008\u0008\u0008\u0008\u0008\u0008\u0008\u0008\u0008\u0008\u0008\u0008\u0008\u0008\u0008\u0008\u0008\u0008\u0008\u0008\u0008\u0008\u0008\u0008\u0008\u0008\u0008\u0008\u0008\u0008\u0008\u0008\u0008\u0008\u0008\u0008\u0008\u0008\u0008\u0008\u0008\u0008\u0008\u0008\u0008\u0008\u0008\u0008\u0008\u0008\u0008\u0008\u0008\u0008\u0008\u0008\u0008\u0008\u0008\u0008\u0008\u0008\u0008\u0008\u0008\u0008\u0008\u0008\u0008\u0008\u0008\u0008\u0008\u0008\r12/12 [==============================] - 0s 1ms/step - loss: 14509.7383 - mean_absolute_error: 14509.7383 - mean_absolute_percentage_error: 903.5219\nEpoch 8/10\n\r 1/12 [=\u003e............................] - ETA: 0s - loss: 15059.1758 - mean_absolute_error: 15059.1758 - mean_absolute_percentage_error: 755.4286\u0008\u0008\u0008\u0008\u0008\u0008\u0008\u0008\u0008\u0008\u0008\u0008\u0008\u0008\u0008\u0008\u0008\u0008\u0008\u0008\u0008\u0008\u0008\u0008\u0008\u0008\u0008\u0008\u0008\u0008\u0008\u0008\u0008\u0008\u0008\u0008\u0008\u0008\u0008\u0008\u0008\u0008\u0008\u0008\u0008\u0008\u0008\u0008\u0008\u0008\u0008\u0008\u0008\u0008\u0008\u0008\u0008\u0008\u0008\u0008\u0008\u0008\u0008\u0008\u0008\u0008\u0008\u0008\u0008\u0008\u0008\u0008\u0008\u0008\u0008\u0008\u0008\u0008\u0008\u0008\u0008\u0008\u0008\u0008\u0008\u0008\u0008\u0008\u0008\u0008\u0008\u0008\u0008\u0008\u0008\u0008\u0008\u0008\u0008\u0008\u0008\u0008\u0008\u0008\u0008\u0008\u0008\u0008\u0008\u0008\u0008\u0008\u0008\u0008\u0008\u0008\u0008\u0008\u0008\u0008\u0008\u0008\u0008\u0008\u0008\u0008\u0008\u0008\u0008\u0008\u0008\u0008\u0008\u0008\u0008\u0008\u0008\u0008\u0008\u0008\u0008\u0008\u0008\u0008\r12/12 [==============================] - 0s 1ms/step - loss: 13912.5615 - mean_absolute_error: 13912.5615 - mean_absolute_percentage_error: 1707.4209\nEpoch 9/10\n\r 1/12 [=\u003e............................] - ETA: 0s - loss: 16764.0312 - mean_absolute_error: 16764.0312 - mean_absolute_percentage_error: 505.0403\u0008\u0008\u0008\u0008\u0008\u0008\u0008\u0008\u0008\u0008\u0008\u0008\u0008\u0008\u0008\u0008\u0008\u0008\u0008\u0008\u0008\u0008\u0008\u0008\u0008\u0008\u0008\u0008\u0008\u0008\u0008\u0008\u0008\u0008\u0008\u0008\u0008\u0008\u0008\u0008\u0008\u0008\u0008\u0008\u0008\u0008\u0008\u0008\u0008\u0008\u0008\u0008\u0008\u0008\u0008\u0008\u0008\u0008\u0008\u0008\u0008\u0008\u0008\u0008\u0008\u0008\u0008\u0008\u0008\u0008\u0008\u0008\u0008\u0008\u0008\u0008\u0008\u0008\u0008\u0008\u0008\u0008\u0008\u0008\u0008\u0008\u0008\u0008\u0008\u0008\u0008\u0008\u0008\u0008\u0008\u0008\u0008\u0008\u0008\u0008\u0008\u0008\u0008\u0008\u0008\u0008\u0008\u0008\u0008\u0008\u0008\u0008\u0008\u0008\u0008\u0008\u0008\u0008\u0008\u0008\u0008\u0008\u0008\u0008\u0008\u0008\u0008\u0008\u0008\u0008\u0008\u0008\u0008\u0008\u0008\u0008\u0008\u0008\u0008\u0008\u0008\u0008\u0008\u0008\r12/12 [==============================] - 0s 1ms/step - loss: 13549.7383 - mean_absolute_error: 13549.7383 - mean_absolute_percentage_error: 2246.6294\nEpoch 10/10\n\r 1/12 [=\u003e............................] - ETA: 0s - loss: 11827.9629 - mean_absolute_error: 11827.9629 - mean_absolute_percentage_error: 3650.3977\u0008\u0008\u0008\u0008\u0008\u0008\u0008\u0008\u0008\u0008\u0008\u0008\u0008\u0008\u0008\u0008\u0008\u0008\u0008\u0008\u0008\u0008\u0008\u0008\u0008\u0008\u0008\u0008\u0008\u0008\u0008\u0008\u0008\u0008\u0008\u0008\u0008\u0008\u0008\u0008\u0008\u0008\u0008\u0008\u0008\u0008\u0008\u0008\u0008\u0008\u0008\u0008\u0008\u0008\u0008\u0008\u0008\u0008\u0008\u0008\u0008\u0008\u0008\u0008\u0008\u0008\u0008\u0008\u0008\u0008\u0008\u0008\u0008\u0008\u0008\u0008\u0008\u0008\u0008\u0008\u0008\u0008\u0008\u0008\u0008\u0008\u0008\u0008\u0008\u0008\u0008\u0008\u0008\u0008\u0008\u0008\u0008\u0008\u0008\u0008\u0008\u0008\u0008\u0008\u0008\u0008\u0008\u0008\u0008\u0008\u0008\u0008\u0008\u0008\u0008\u0008\u0008\u0008\u0008\u0008\u0008\u0008\u0008\u0008\u0008\u0008\u0008\u0008\u0008\u0008\u0008\u0008\u0008\u0008\u0008\u0008\u0008\u0008\u0008\u0008\u0008\u0008\u0008\u0008\u0008\r12/12 [==============================] - 0s 1ms/step - loss: 13340.0938 - mean_absolute_error: 13340.0938 - mean_absolute_percentage_error: 2578.4114\n"
                },
                {
                    "data": {
                        "text/plain": "\u003ckeras.callbacks.History at 0x7feb5dc20b90\u003e"
                    },
                    "execution_count": 30,
                    "metadata": {},
                    "output_type": "execute_result"
                }
            ],
            "source": [
                "model.fit(X,y,batch_size = 128,epochs = 10) \n",
                "#epochs the number of times  you go through the data set"
            ]
        },
        {
            "attachments": {},
            "cell_type": "markdown",
            "metadata": {},
            "source": [
                "5. Making predictions"
            ]
        },
        {
            "cell_type": "code",
            "execution_count": 31,
            "metadata": {},
            "outputs": [
                {
                    "name": "stdout",
                    "output_type": "stream",
                    "text": "\r1/6 [====\u003e.........................] - ETA: 0s\u0008\u0008\u0008\u0008\u0008\u0008\u0008\u0008\u0008\u0008\u0008\u0008\u0008\u0008\u0008\u0008\u0008\u0008\u0008\u0008\u0008\u0008\u0008\u0008\u0008\u0008\u0008\u0008\u0008\u0008\u0008\u0008\u0008\u0008\u0008\u0008\u0008\u0008\u0008\u0008\u0008\u0008\u0008\u0008\u0008\u0008\r6/6 [==============================] - 0s 2ms/step\n"
                }
            ],
            "source": [
                "X_test = tf.convert_to_tensor(test.values, dtype = tf.float32)\n",
                "y_pred = model.predict(X_test,batch_size = 128)\n",
                ""
            ]
        },
        {
            "attachments": {},
            "cell_type": "markdown",
            "metadata": {},
            "source": [
                "Creating the ids required for the submission by using the original file"
            ]
        },
        {
            "cell_type": "code",
            "execution_count": 32,
            "metadata": {},
            "outputs": [],
            "source": [
                "testfile = pd.read_csv('test2.csv')"
            ]
        },
        {
            "cell_type": "code",
            "execution_count": 33,
            "metadata": {},
            "outputs": [],
            "source": [
                "submission = pd.DataFrame({'id':testfile['Store'].map(str) + '_' + testfile['Dept'].map(str) + '_' + testfile['Date'].map(str),\n",
                "                          'Weekly_Sales':y_pred.flatten()})"
            ]
        },
        {
            "cell_type": "code",
            "execution_count": 34,
            "metadata": {},
            "outputs": [],
            "source": [
                "submission.to_csv('results.csv', index = False)"
            ]
        }
    ]
}
